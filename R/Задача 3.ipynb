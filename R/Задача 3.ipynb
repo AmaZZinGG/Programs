import numpy as np
import pandas as pd
import seaborn as sns
import matplotlib.pyplot as plt
data2 = pd.read_csv(‘C:/Users/AmaZZinG/Desktop/practice/train.csv’,usecols=[‘MachineIdentifier’,’CountryIdentifier’,’AVProductStatesIdentifier’,’OrganizationIdentifier’,’Census_ProcessorCoreCount’,’HasDetections’,’Census_TotalPhysicalRAM’], nrows = 1000)
print(“data2.shape=”,data2.shape)
data2.info()
np.sum(pd.isnull(data2))
data2.dropna(inplace=True)
data2.info()
plt.figure(figsize=(20,16))
plt.scatter(data2.CountryIdentifier, data2.OrganizationIdentifier, s=9, c=data2.AVProductStatesIdentifier, cmap = 'seismic')
plt.colorbar()
plt.xlabel('CountryIdentifier')
plt.ylabel('OrganizationIdentifier')
def maxstd(data2):
    max = 0
    max_name = str()
    for i in data3.columns:
        num = (data2[i] – data2[i].mean()) / data2[i].std()
        data2[i] = num 
        if max < num.mean():
            max_name, max = i, num.mean()      
    return max_name  
maxstd(data2)
target = data2.HasDetections
train = data2
from sklearn.model_selection import train_test_split
X_train, X_test, y_train, y_test = train_test_split(train, target, test_size = 0.3, random_state = 42) 
N_train, _ = X_train.shape
N_test, _ = X_test.shape
print (N_train, N_test)

from sklearn.decomposition import PCA
%matplotlib inline
import matplotlib.pyplot as plt
pca = PCA() 
pca.fit(X_train) 
X_pca = pca.transform(X_train)
for i, component in enumerate(pca.components_):
 print("{} component: {}% of initial variance".format(i + 1,
      round(100 * pca.explained_variance_ratio_[i], 2)))
 print(" + ".join("%.3f x %s" % (value, name)
                  for value, name in zip(component,train.columns)))
plt.figure(figsize=(10,7))
plt.plot(np.cumsum(pca.explained_variance_ratio_), color='k', lw=2)
plt.axhline(0.9, c='r')
plt.axvline(1, c='b')



